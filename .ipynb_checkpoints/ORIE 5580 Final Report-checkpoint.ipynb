{
 "cells": [
  {
   "cell_type": "markdown",
   "id": "1ef4c0ed",
   "metadata": {},
   "source": [
    "<span style=\"font-family: Times New Roman; line-height: 1.5\">\n",
    "\n",
    "# ORIE 5580 Final Report\n",
    "#### *Zhanwei Ma, Charlotte Xu, Kaite Hu, Zhaohan Xing*\n",
    "\n",
    "</span>"
   ]
  },
  {
   "cell_type": "markdown",
   "id": "4976a244",
   "metadata": {},
   "source": [
    "<span style=\"font-family: Times New Roman; font-size: 16px; line-height: 1.5\">\n",
    "\n",
    "## Executive summary:\n",
    "\n",
    "\n",
    "\n",
    "</span>"
   ]
  },
  {
   "cell_type": "markdown",
   "id": "cb1283d2",
   "metadata": {},
   "source": [
    "<span style=\"font-family: Times New Roman; font-size: 16px; line-height: 1.5\">\n",
    "\n",
    "## Modeling approach:\n",
    "\n",
    "This document outlines a simulation model aimed at examining gender disparities within corporate structures. The model is crafted to inform promotion strategies that address bias. This section, intended for a broad audience, offers an overview of the methodologies used. Subsequent sections delve into more detailed explanations.\n",
    "\n",
    "Our approach utilizes stochastic simulation to emulate the promotion process in corporations, with the implementation carried out in Python.\n",
    "\n",
    "The simulation employs discrete-event modeling to represent the employee distribution across different career levels, incorporating randomness in the promotion decision-making. Key components of this simulation include system states, simulation times, and organized event lists. The system state represents the career levels of all employees within the corporation. Accurate tracking of the current simulation time is essential. The event lists chronicle various personnel changes, such as promotions and resignations.\n",
    "\n",
    "The discrete-event modeling effectively captures the dynamics of employee career progression and gender disparities. This method facilitates the simulation of authentic corporate environments, capturing the inherent randomness and variability present in career progression and decision-making processes.\n",
    "\n",
    "We conducted simulations under three distinct initial conditions: all-male employees, all-female employees, and a balanced mix of 50% male and 50% female employees. Preliminary results from the model suggest that, irrespective of the initial gender composition, the male-to-female ratio at various career levels eventually reaches a state of equilibrium over time. Notably, across all levels, the proportion of male employees exceeds that of female employees, a disparity that becomes more pronounced in higher career tiers.\n",
    "\n",
    "$\\color{red}{三个起始状态的图}$\n",
    "    \n",
    "</span>"
   ]
  },
  {
   "cell_type": "markdown",
   "id": "9203ac81",
   "metadata": {},
   "source": [
    "<span style=\"font-family: Times New Roman; font-size: 16px; line-height: 1.5\">\n",
    "\n",
    "## Assumptions\n",
    "  \n",
    "* #### Gender\n",
    "\n",
    "In this simulation model, we operate under the assumption that there are only two genders, male and female.\n",
    "\n",
    "* #### Corporation Structure\n",
    "\n",
    "In this simulation model, we represent a large corporation encompassing four distinct career tiers: Executives (E), Senior Management (S), Management (M), and Junior (J). The employee count diminishes progressively with each ascending career level.\n",
    "\n",
    "* #### Promotion Mechanism\n",
    "\n",
    "Vacancies in this model arise either due to employees leaving the company or being promoted to a higher level. Any open position is immediately filled, either through promotions from the next lower level for Executives (E), Senior Management (S), and Management (M), or by hiring new employees for the Junior (J) level. In hiring for the Junior level, it is assumed that new employees are randomly selected from an infinite pool of male and female candidates, with equal probability of choosing either gender.\n",
    "\n",
    "We posit four promotional strategies grounded in the above mechanism: seniority-based, gender-biased seniority-based, quota-based, and the 'Rooney Rule'. The seniority-based approach promotes the most senior employee from the next lower level. In contrast, the gender-biased seniority-based method selects the three most senior employees based on their time-at-level and promotes one using a multinomial logit selection rule. The quota-based strategy mandates a minimum representation of each gender in promotions. Lastly, the 'Rooney Rule' stipulates that the candidate pool for promotion must include at least one individual from each gender.\n",
    "\n",
    "* #### Rate of Dropping Out\n",
    "\n",
    "In our simulated corporation, each employee across the four levels is assumed to independently retire or leave the company at specific departure rates. These rates are higher at lower levels, reflecting the tendency of a younger workforce to quit or switch jobs more frequently.\n",
    "\n",
    "Regarding gender dynamics, there is evidence suggesting that women tend to leave their jobs at a higher rate than men, often due to childbirth and family transitions. Consequently, our model incorporates an additional factor into the departure rate for female employees to account for these considerations.\n",
    "    \n",
    "</span>"
   ]
  },
  {
   "cell_type": "markdown",
   "id": "18ae5d66",
   "metadata": {},
   "source": [
    "<span style=\"font-family: Times New Roman; font-size: 16px; line-height: 1.5\">\n",
    "\n",
    "## Parameters\n",
    "    \n",
    "* #### Number of Employees\n",
    "\n",
    "Given our focus on a large-sized corporation, we have established the initial employee counts for each level as follows: 5 for Executives (E), 20 for Seniors (S), 100 for Managers (M), and 400 for Juniors (J).\n",
    "\n",
    "* #### Rate of Dropping Out ($\\lambda$), Additional Timer for Female ($\\kappa$) and their relationships with Female Early-leaving Parameter ($\\varepsilon$)\n",
    "\n",
    "We established the dropping out rates for each level of male employees as $\\lambda_E$, $\\lambda_S$, $\\lambda_M$, and $\\lambda_J$, where $\\lambda_E \\geqslant \\lambda_M \\geqslant \\lambda_S \\geqslant \\lambda_J$, in line with our hypothesis of a higher dropping out rate at lower levels. To account for gender differences in attrition, we introduced an additional parameter $\\kappa$, making the female dropout rate $\\lambda_i + \\kappa$ for each level $i$ (E, S, M, J). \n",
    "\n",
    "In setting these parameters, we referred to academic literature and set the dropout rates as $\\lambda_E=\\frac{1}{5}$, $\\lambda_S=\\frac{1}{4}$, $\\lambda_M=\\frac{1}{3}$, and $\\lambda_J=\\frac{1}{2}$. Since female employees have and additional timer $\\kappa$, their time of leaving follows $Exp(\\lambda_i + \\kappa_i)$, as discussed previously, which means female leaves earlier than male expectedly. In our model, we introduce a parameter $\\varepsilon$, to represent the condition that female leaves $\\varepsilon$ faster than male expectedly. For instance, some data we found shows that female employees tend to leave 15% earlier than their male counterparts, which means $\\varepsilon = 0.15$. Given the value of $\\varepsilon$, we calculated the value of $\\kappa$ for each level by assessing the difference between the male and female departure rates using this formula: \n",
    "    \n",
    "$$\\label{eq1}\n",
    "\\frac{1}{\\lambda_L+\\kappa_L}=(1-\\varepsilon) \\frac{1}{\\lambda_L}\\quad\\quad\\quad\\quad\\quad\\quad(1)\n",
    "$$, where $L$ is the level of the employee.\n",
    "    \n",
    "\n",
    "For instance, if a junior male employee is expected to leave in 2 years ($\\lambda=\\frac{1}{2}$), a female employee in the same role would leave in approximately 1.7 years ($2×(1−0.15)$), corresponding to a rate of $\\lambda+\\kappa=\\frac{1}{1.7}$. The $\\kappa$ value, $\\frac{1}{1.7} - \\frac{1}{2}$, thus represents the additional likelihood of female employees leaving across all levels. By introducing the parameter $\\varepsilon$, we can study how the factor of early leaving of female can affect the results.\n",
    "\n",
    "* #### Relaxation time \n",
    "\n",
    "In our scenario, the term 'relaxation time' refers to the duration required for the gender ratio within the simulated corporations to reach stability following any changes. We define a relaxation time, denoted as $\\tau$, to conserve computational time and resources. Consequently, for analysis purposes, we only need to run simulations for a duration of 5 $\\tau$ to obtain a stable result.\n",
    "\n",
    "To identify an appropriate $\\tau$, we employed the threshold method. This involved running a single simulation over a span of 1000 years and visualizing the trends of gender ratio over time. The thresholds were set based on an acceptable level of deviation from the steady state, determined as [0.4, 0.3, 0.15, 0.05]. It is reasonable to obtain a fairly higher threshold for higher career levels, as fewer employees in these ranks mean any personnel changes significantly impact the gender ratio.\n",
    "\n",
    "For legibility and to enhance computational efficiency, we adjusted the simulation duration to 100 years. Using the threshold method, we defined a steady state as a condition where the gender ratio remains within the threshold for a consistent period. In our simulations, this period was set to one-third (33 years) of the total simulation time, ensuring we capture a true steady state rather than a transient fluctuation. We then marked the initial point of this period as $\\tau$. Specifically, in the Monte Carlo simulations, we ran the model 1000 times with an initial 50-50 gender split among employees. The average of these runs yielded an estimated $\\tau$ of 16.5 years. $\\color{red}{这个数需要改}$\n",
    "\n",
    "* #### Bias Factors\n",
    "\n",
    "When implementing the Gender-biased seniority-based strategy, we employ a multinomial logistic selection rule to determine the promotion probability for each of the three candidates. This probability is proportional to $e^{\\gamma T_i + \\alpha \\mathbb{1}}$[i is male]. In this formula, $\\gamma$ represents the parameter indicating a preference for seniority-at-level ($T_i$), and $\\alpha$ signifies the bias in favor of selecting male candidates. If the candidate is male, the indicator function $\\mathbb{1}$[i is male] increments his promotion probability by adding $\\alpha$.\n",
    "\n",
    "Since the value of $\\alpha$ determines the likelihood of a male employee being chosen over a female employee for promotion, this expressed as $\\frac{e^{\\alpha}}{1+e^{\\alpha}}$. We calculate the $\\alpha$ by using the formula $ln(\\frac{bias}{1-bias})$, where bias level is determined further in the model analysis.    \n",
    "    \n",
    "$\\color{red}{level of bias需要改,最后一段也需要改}$\n",
    "    \n",
    "</span>"
   ]
  },
  {
   "cell_type": "markdown",
   "id": "1110245f",
   "metadata": {},
   "source": [
    "<span style=\"font-family: Times New Roman; font-size: 16px; line-height: 1.5\">\n",
    "\n",
    "## Model Details\n",
    "\n",
    "The objective of this section is to comprehensively elucidate our model and its inputs, articulate the methodology in technical depth, and critically assess the simulation approach. Our simulation framework employs a Python-based stochastic discrete-event simulation. To capture a range of potential future scenarios, we utilize Monte Carlo simulation, which generates numerous possible outcomes. This method allows us to aggregate and summarize key characteristics and trends of these varied futures. \n",
    "\n",
    "####  Corporation-level Dynamics\n",
    "\n",
    "We model the dynamics of personnel changes within a corporation, tracking the number of individuals at each career level over the course of the simulation. Starting with a fixed number of employees at each level, the simulation clock begins, monitoring potential retirements and updating each individual's seniority and time-at-level. In this discrete-event simulation, the event list is updated as new events occur. Specifically, upon retirement or departure, the process of promotion or hiring is activated, and the current gender distribution within the corporation is recorded, allowing for the calculation of gender ratios at different levels. This promotion process repeats throughout the 80-year simulation timeframe in response to departures.\n",
    "\n",
    "We implemented two primary promotion strategies: seniority-preferred and gender-biased seniority-preferred. In the first approach, employees at the next lower level are ranked by seniority, and the one with the longest tenure is promoted. For the second approach, we calculate promotion probabilities for three candidates with the longest time-at-level using a multinomial logistic selection rule. These probabilities are derived from the exponential of the sum of time-at-level ($\\gamma * T$) and a gender bias factor ($\\alpha * \\mathbb{1}$[i is male]), where the gender bias increases the promotion probability for males when $\\alpha$ is positive. We then normalize these probabilities to form a cumulative density function and employ the inversion method to randomly select the promoted individual based on their respective probabilities.\n",
    "\n",
    "#### Individual-level Dynamics\n",
    "\n",
    "In our simulation, each employee is modeled independently, with distinct career progression paths within the corporation. At the corporation's inception, employees are assigned a seniority level that uniformly falls within the range specific to their career level. We assume typical seniorities to be 9-11 years for level E, 4-6 years for level S, 2-4 years for level M, and 0-2 years for level J. Each employee is equipped with two time-tracking mechanisms: one for seniority and another for cumulative time at their current career level. Initially, the time-at-level is set to zero for all employees. This time-at-level metric increases concurrently with seniority but is reset to zero upon promotion.\n",
    "\n",
    "The primary driver of this model is the occurrence of departures. We assign a departure time to each employee based on their respective leaving rate, which varies across levels and gender, resulting in eight distinct predetermined leaving rates. As each individual's departure is independent of others, even among those at the same level and of the same gender, the timing of each departure is memoryless, unaffected by prior departures. Furthermore, our model operates under a continuous time framework for this random process. To align with these properties—memorylessness and continuity—we employ an exponential distribution with the leaving rate as the parameter. This approach is used to randomly generate the time intervals that determine when each specific employee will leave the corporation.\n",
    "\n",
    "#### Testing on Model\n",
    "    \n",
    "In assessing the validity of our model, we compare various scenarios generated by it, ensuring that the outcomes align with the predefined settings.\n",
    "\n",
    "We conducted 100 independent simulations using the seniority-preferred mechanism over a time span of 5τR. The results included plotting the expected value and 95% confidence intervals (CIs) for the proportion of women at each level over time (see graph i). Additionally, we analyzed the initial sample paths, observing a relatively similar trend among them, with oscillations within a reasonable deviation (graph i). These observations lend credibility to the validity of our stochastic model.\n",
    "\n",
    "  \n",
    "$\\color{red}{两组图}$\n",
    "$\\color{red}{First 5 Simulations for 5 tau Duration without Bias}$\n",
    "$\\color{red}{Mean 100 Simulations for 5 tau Duration without Bias 和 female_gender_ratio when alpha=0}$\n",
    "\n",
    "</span>"
   ]
  },
  {
   "cell_type": "markdown",
   "id": "25d87955",
   "metadata": {},
   "source": [
    "<span style=\"font-family: Times New Roman; font-size: 16px; line-height: 1.5\">\n",
    "\n",
    "## Model Analysis\n",
    "\n",
    "In this section, our focus will be on utilizing the model to examine various strategies, further dissect the model outcomes, and explore feasible solutions. Specifically, when investigating gender bias in the promotion process, we will set the initial state such that the population comprises an equal split of 50% male and 50% female. This approach ensures that any observed disparities in the final results can be attributed solely to biases emerging during the promotion phase. \n",
    "\n",
    "#### Seniority-Preferred Strategy\n",
    "\n",
    "Initially, our analysis will concentrate on promotions based solely on seniority. From data obtained across 100 simulations, we observed that the average gender ratios fluctuate more significantly at higher career levels. This increased variability is attributed to the smaller population sizes at these levels, affecting the denominator in ratio calculations. Notably, the average proportion of females decreases at higher career levels, suggesting a gender imbalance in upper management. The primary variable in this model is the accelerated departure rate of females at each level. Factors such as family obligations are presumed to lead to earlier departures for females, thereby contributing to the skewed gender distribution within the corporation.\n",
    "\n",
    "#### Gender Biased Seniority-Preferred Strategy\n",
    "\n",
    "We will study gender-biased seniority-preferred strategy. To comprehensively assess the influence of varying degrees of bias, we have chosen to simulate scenarios with a fixed seniority factor $\\gamma$=1, and five distinct probabilities of selecting male candidates [0.05, 0.25, 0.5, 0.75, 0.95]. The $\\alpha$ values calculated from these probabilities are [-2.94, -1.10, 0, 1.10, 2.94] respectively. For example, 50% probability means no gender bias ($\\alpha$=0) on selecting for promotion. \n",
    "\n",
    "When $\\alpha$ is greater than 0, there is a preference on selecting male; when the absolute value of $\\alpha$ gets larger, the preference is more severe. The female ratios decrease rapidly as the bias term gets larger, where the level E is most affected and level J is nearly no affected. As the career level goes up, the gender bias becomes more obvious. When $\\alpha$ is less than 0, there is a preference on selecting female candidates. From the bar chart $\\color{red}{(graph i)}$, the ratios are relatively higher than the cases of positive $\\alpha$. But even though there's a gender preference on selecting female, the overall ratios are still below 0.5, female employees are still less than half of the population, due to the effect of the faster leaving rate.\n",
    "\n",
    "#### Early Leaving Influences\n",
    "    \n",
    "We study the factor of earlier expected leaving time of female employees. To study this, we chose different values of $\\varepsilon = [0.05, 0.10, 0.15, 0.20, 0.25]$. Then, based on equation (1), we can calculate the value of $\\kappa_L$ for each of the level using the same method. $\\color{red}{\\textbf{tau？改，续写}}$\n",
    "    \n",
    "    \n",
    "#### Mitigating Bias Solutions\n",
    "\n",
    "After examining two fundamental promotion strategies, we've elucidated the tangible effects of family transitions and gender-biased selection on corporate gender ratios. Next, we explore two potential solutions to mitigate gender bias in the promotion process. These solutions are tested using the same model, targeting the issues identified in previous scenarios. For consistency in comparison, we maintained the same parameters for time-at-level preference ($\\gamma$=1) and eliminated gender bias ($\\alpha$=0).\n",
    "\n",
    "Our first proposed solution is the Quota-based strategy, which mandates at least one member of each gender in the most recent promotions. Simulation results $\\color{red}{(graph i)}$ show mean female ratios at levels E, S, M, J as [0.482917, 0.463839, 0.471564, 0.466375], respectively. This represents a significant improvement over previous model outcomes, with female employees averaging over 45% of the total workforce.\n",
    "\n",
    "The second solution we tested is the 'Rooney Rule', requiring that each candidate pool for promotion includes at least one individual of each gender. However, the model results for this strategy show ratios of [0.302500, 0.379375, 0.398250, 0.491812] for levels E, S, M, J, respectively. These outcomes do not demonstrate a substantial advancement in addressing the promotion disparity.\n",
    "\n",
    "In conclusion, a horizontal comparison of the four promotion strategies suggests that the Quota-based approach is the most effective in mitigating gender disparities within the corporation and should be considered for practical implementation.\n",
    "\n",
    "$\\color{red}{每个点都有配图}$\n",
    "\n",
    "</span>"
   ]
  },
  {
   "cell_type": "markdown",
   "id": "fc78107d",
   "metadata": {},
   "source": [
    "## Conclusions\n"
   ]
  },
  {
   "cell_type": "markdown",
   "id": "80242929",
   "metadata": {},
   "source": []
  },
  {
   "cell_type": "markdown",
   "id": "c927a665",
   "metadata": {},
   "source": []
  },
  {
   "cell_type": "markdown",
   "id": "02314fa5",
   "metadata": {},
   "source": []
  },
  {
   "cell_type": "markdown",
   "id": "ee1cd169",
   "metadata": {},
   "source": []
  }
 ],
 "metadata": {
  "kernelspec": {
   "display_name": "Python 3 (ipykernel)",
   "language": "python",
   "name": "python3"
  },
  "language_info": {
   "codemirror_mode": {
    "name": "ipython",
    "version": 3
   },
   "file_extension": ".py",
   "mimetype": "text/x-python",
   "name": "python",
   "nbconvert_exporter": "python",
   "pygments_lexer": "ipython3",
   "version": "3.11.4"
  }
 },
 "nbformat": 4,
 "nbformat_minor": 5
}
